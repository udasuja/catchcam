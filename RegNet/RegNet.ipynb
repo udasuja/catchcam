{
  "cells": [
    {
      "cell_type": "markdown",
      "metadata": {
        "id": "YEBDfGFVgHTJ"
      },
      "source": [
        "# ⚡ FairFace 최적화 학습 코드 (RegNet + CatchCam 적합 버전)\n",
        "- RegNet\n",
        "- FocalLoss + LabelSmoothing\n",
        "- AdamW + CosineAnnealing\n",
        "- Dropout + GELU\n",
        "- CLAHE + RandomAugment\n",
        "- 회귀 제거 → 분류만 추론용 사용"
      ],
      "id": "YEBDfGFVgHTJ"
    },
    {
      "cell_type": "code",
      "execution_count": null,
      "metadata": {
        "id": "AaTo07U7gHTL"
      },
      "outputs": [],
      "source": [
        "import torch\n",
        "import torch.nn as nn\n",
        "import torchvision.transforms as transforms\n",
        "import random\n",
        "from PIL import Image, ImageEnhance, ImageFilter\n",
        "\n",
        "# ✅ 데이터 전처리 (CLAHE + RandomAugment)\n",
        "class CLAHETransform:\n",
        "    def __call__(self, img):\n",
        "        import cv2\n",
        "        import numpy as np\n",
        "        img = np.array(img)\n",
        "        img = cv2.cvtColor(img, cv2.COLOR_RGB2LAB)\n",
        "        l, a, b = cv2.split(img)\n",
        "        l = cv2.createCLAHE(clipLimit=2.0, tileGridSize=(8,8)).apply(l)\n",
        "        img = cv2.merge((l,a,b))\n",
        "        img = cv2.cvtColor(img, cv2.COLOR_LAB2RGB)\n",
        "        return Image.fromarray(img)\n",
        "\n",
        "class RandomAugment:\n",
        "    def __call__(self, img):\n",
        "        ops = [\n",
        "            lambda x: x.filter(ImageFilter.GaussianBlur(radius=1)),\n",
        "            lambda x: ImageEnhance.Brightness(x).enhance(random.uniform(0.8,1.2)),\n",
        "            lambda x: ImageEnhance.Contrast(x).enhance(random.uniform(0.8,1.2)),\n",
        "            lambda x: ImageEnhance.Color(x).enhance(random.uniform(0.8,1.2)),\n",
        "        ]\n",
        "        op = random.choice(ops)\n",
        "        return op(img)\n",
        "\n",
        "transform_trainval = transforms.Compose([\n",
        "    CLAHETransform(),\n",
        "    RandomAugment(),\n",
        "    transforms.Resize((224,224)),\n",
        "    transforms.ToTensor(),\n",
        "    transforms.Normalize([0.485, 0.456, 0.406], [0.229, 0.224, 0.225])\n",
        "])\n",
        "\n",
        "transform = transforms.Compose([\n",
        "    transforms.Resize((224,224)),\n",
        "    transforms.ToTensor(),\n",
        "    transforms.Normalize([0.485, 0.456, 0.406], [0.229, 0.224, 0.225])\n",
        "])"
      ],
      "id": "AaTo07U7gHTL"
    },
    {
      "cell_type": "code",
      "execution_count": null,
      "id": "1ee44c9b",
      "metadata": {
        "id": "1ee44c9b",
        "outputId": "2926b310-0a4d-4ccf-d465-50e658e0f2ac"
      },
      "outputs": [
        {
          "name": "stdout",
          "output_type": "stream",
          "text": [
            "Train: 59475, Val: 14869, Test: 10954\n"
          ]
        }
      ],
      "source": [
        "# ✅ 데이터셋 및 DataLoader 준비\n",
        "import pandas as pd\n",
        "from torch.utils.data import Dataset, DataLoader\n",
        "from PIL import Image\n",
        "import os\n",
        "\n",
        "import pandas as pd\n",
        "from torch.utils.data import Dataset, DataLoader\n",
        "from PIL import Image\n",
        "from sklearn.model_selection import train_test_split\n",
        "\n",
        "# 불러올 새로운 CSV (나이 6단계로 병합된 파일)\n",
        "df = pd.read_csv(\"C:/TrainTest/balanced_dataset_6group.csv\")\n",
        "\n",
        "# 라벨 인코딩\n",
        "gender_map = {'Male': 0, 'Female': 1}\n",
        "age_group_map = {'0-9': 0, '10-19': 1, '20-29': 2, '30-39': 3, '40-59': 4, '60+': 5}\n",
        "df['gender_label'] = df['gender'].map(gender_map)\n",
        "df['age_label'] = df['age_group'].map(age_group_map)\n",
        "\n",
        "# train/val split\n",
        "train_df, val_df = train_test_split(df, test_size=0.2, stratify=df['age_label'], random_state=42)\n",
        "test_df = pd.read_csv(\"C:/TrainTest/fairface_label_val_combined_6age.csv\")\n",
        "\n",
        "# Dataset 클래스 정의\n",
        "class FairFaceDataset(Dataset):\n",
        "    def __init__(self, dataframe, transform=None):\n",
        "        self.df = dataframe\n",
        "        self.transform = transform\n",
        "\n",
        "    def __len__(self):\n",
        "        return len(self.df)\n",
        "\n",
        "    def __getitem__(self, idx):\n",
        "        row = self.df.iloc[idx]\n",
        "        img = Image.open(row['full_path']).convert('RGB')\n",
        "        if self.transform:\n",
        "            img = self.transform(img)\n",
        "        gender = row['gender_label']\n",
        "        age = row['age_label']\n",
        "        return img, int(gender), int(age), 0  # age regression dummy\n",
        "\n",
        "# DataLoader 설정\n",
        "train_loader = DataLoader(FairFaceDataset(train_df, transform=transform_trainval), batch_size=32, shuffle=True)\n",
        "val_loader = DataLoader(FairFaceDataset(val_df, transform=transform_trainval), batch_size=32, shuffle=False)\n",
        "test_loader = DataLoader(FairFaceDataset(test_df, transform=transform), batch_size=32, shuffle=False)\n",
        "\n",
        "print(f\"Train: {len(train_df)}, Val: {len(val_df)}, Test: {len(test_df)}\")"
      ]
    },
    {
      "cell_type": "code",
      "execution_count": null,
      "id": "6ba6cc31",
      "metadata": {
        "id": "6ba6cc31"
      },
      "outputs": [],
      "source": [
        "import matplotlib.pyplot as plt\n",
        "import torchvision\n",
        "import numpy as np\n",
        "# 배치 하나 꺼내기\n",
        "images, gender_labels, age_labels,_ = next(iter(train_loader))\n",
        "\n",
        "print(\"image shape:\", images.shape)\n",
        "print(\"gender label shape:\", gender_labels.shape)\n",
        "print(\"age label  shape:\", age_labels.shape)\n",
        "\n",
        "\n",
        "# 첫 번째 이미지 시각화\n",
        "img = torchvision.utils.make_grid(images[:])  # 앞에서 4개만 보기\n",
        "img = img.permute(1, 2, 0)  # CHW -> HWC\n",
        "img = img.numpy()\n",
        "img = img * [0.229, 0.224, 0.225] + [0.485, 0.456, 0.406]  # 역정규화\n",
        "img = np.clip(img, 0, 1)\n",
        "\n",
        "plt.figure(figsize=(8, 4))\n",
        "plt.imshow(img)\n",
        "plt.title(\"TrainLoader image (CLAHE)\")\n",
        "plt.axis('off')\n",
        "plt.show()"
      ]
    },
    {
      "cell_type": "code",
      "execution_count": null,
      "id": "b8ffe9d4",
      "metadata": {
        "id": "b8ffe9d4"
      },
      "outputs": [],
      "source": [
        "# ✅ 모델 정의 (회귀 제거 + Dropout + GELU)\n",
        "import torch.nn as nn\n",
        "from torchvision.models import efficientnet_b0, EfficientNet_B0_Weights\n",
        "from torchvision.models import regnet_y_800mf, RegNet_Y_800MF_Weights\n",
        "\n",
        "\n",
        "class MultiTaskNet(nn.Module):\n",
        "    def __init__(self, num_gender=2, num_age=9):\n",
        "        super().__init__()\n",
        "        base = regnet_y_800mf(weights=RegNet_Y_800MF_Weights.IMAGENET1K_V1)\n",
        "        in_features = base.fc.in_features\n",
        "        self.backbone = nn.Sequential(*list(base.children())[:-1])  # 마지막 fc 제거\n",
        "\n",
        "        self.gender_head = nn.Sequential(\n",
        "            nn.Linear(in_features, 128),\n",
        "            nn.GELU(),\n",
        "            nn.Dropout(0.4),\n",
        "            nn.Linear(128, num_gender)\n",
        "        )\n",
        "        self.age_head = nn.Sequential(\n",
        "            nn.Linear(in_features, 128),\n",
        "            nn.GELU(),\n",
        "            nn.Dropout(0.4),\n",
        "            nn.Linear(128, num_age)\n",
        "        )\n",
        "        self.age_reg_head = nn.Sequential(\n",
        "            nn.Linear(in_features, 128),\n",
        "            nn.GELU(),\n",
        "            nn.Dropout(0.4),\n",
        "            nn.Linear(128, 1)\n",
        "        )\n",
        "\n",
        "    def forward(self, x):\n",
        "        x = self.backbone(x).flatten(1)\n",
        "        gender = self.gender_head(x)\n",
        "        age_class = self.age_head(x)\n",
        "        age_reg = self.age_reg_head(x).squeeze(1)\n",
        "        return gender, age_class, age_reg\n"
      ]
    },
    {
      "cell_type": "code",
      "execution_count": null,
      "id": "83c7ddf2",
      "metadata": {
        "id": "83c7ddf2"
      },
      "outputs": [],
      "source": [
        "# ✅ 손실함수 (FocalLoss + LabelSmoothing)\n",
        "import torch.nn.functional as F\n",
        "\n",
        "class FocalLoss(nn.Module):\n",
        "    def __init__(self, gamma=2.0):\n",
        "        super().__init__()\n",
        "        self.gamma = gamma\n",
        "\n",
        "    def forward(self, input, target):\n",
        "        ce_loss = F.cross_entropy(input, target, reduction='none')\n",
        "        pt = torch.exp(-ce_loss)\n",
        "        return ((1 - pt) ** self.gamma * ce_loss).mean()\n",
        "\n",
        "class LabelSmoothingCE(nn.Module):\n",
        "    def __init__(self, smoothing=0.1):\n",
        "        super().__init__()\n",
        "        self.smoothing = smoothing\n",
        "\n",
        "    def forward(self, pred, target):\n",
        "        confidence = 1.0 - self.smoothing\n",
        "        logprobs = F.log_softmax(pred, dim=-1)\n",
        "        nll_loss = -logprobs.gather(dim=-1, index=target.unsqueeze(1)).squeeze(1)\n",
        "        smooth_loss = -logprobs.mean(dim=-1)\n",
        "        return (confidence * nll_loss + self.smoothing * smooth_loss).mean()"
      ]
    },
    {
      "cell_type": "code",
      "execution_count": null,
      "id": "3fa446de",
      "metadata": {
        "id": "3fa446de"
      },
      "outputs": [],
      "source": [
        "# ✅ 학습 준비\n",
        "import torch.optim as optim\n",
        "from torch.optim.lr_scheduler import CosineAnnealingWarmRestarts\n",
        "from sklearn.metrics import classification_report, confusion_matrix\n",
        "import seaborn as sns\n",
        "import matplotlib.pyplot as plt\n",
        "\n",
        "model = MultiTaskNet().to('cuda' if torch.cuda.is_available() else 'cpu')\n",
        "device = next(model.parameters()).device\n",
        "\n",
        "optimizer = optim.AdamW(model.parameters(), lr=3e-4, weight_decay=1e-2)\n",
        "scheduler = CosineAnnealingWarmRestarts(optimizer, T_0=5, T_mult=2)\n",
        "\n",
        "loss_gender = FocalLoss()\n",
        "loss_age = LabelSmoothingCE(smoothing=0.1)\n",
        "\n",
        "best_acc = 0.0\n",
        "\n"
      ]
    },
    {
      "cell_type": "code",
      "execution_count": null,
      "id": "962b7b31",
      "metadata": {
        "id": "962b7b31",
        "outputId": "681a7342-c0f3-4693-eb1f-ad77d76d1f11"
      },
      "outputs": [
        {
          "name": "stderr",
          "output_type": "stream",
          "text": [
            "Epoch [1/10]: 100%|████| 1859/1859 [09:06<00:00,  3.40it/s, Loss=3.1082, G_Acc=0.7932, A_Acc=0.5427]\n"
          ]
        },
        {
          "name": "stdout",
          "output_type": "stream",
          "text": [
            "[Validation] Loss: 2.7879, Gender Acc: 0.8631, Age Acc: 0.5866\n",
            "✅ Best model saved at Epoch 1\n"
          ]
        },
        {
          "name": "stderr",
          "output_type": "stream",
          "text": [
            "Epoch [2/10]: 100%|████| 1859/1859 [06:00<00:00,  5.15it/s, Loss=2.6458, G_Acc=0.8543, A_Acc=0.6130]\n"
          ]
        },
        {
          "name": "stdout",
          "output_type": "stream",
          "text": [
            "[Validation] Loss: 2.6522, Gender Acc: 0.8816, Age Acc: 0.5936\n",
            "✅ Best model saved at Epoch 2\n"
          ]
        },
        {
          "name": "stderr",
          "output_type": "stream",
          "text": [
            "Epoch [3/10]: 100%|████| 1859/1859 [06:02<00:00,  5.13it/s, Loss=2.4738, G_Acc=0.8717, A_Acc=0.6450]\n"
          ]
        },
        {
          "name": "stdout",
          "output_type": "stream",
          "text": [
            "[Validation] Loss: 2.3748, Gender Acc: 0.8876, Age Acc: 0.6279\n",
            "✅ Best model saved at Epoch 3\n"
          ]
        },
        {
          "name": "stderr",
          "output_type": "stream",
          "text": [
            "Epoch [4/10]: 100%|████| 1859/1859 [06:11<00:00,  5.00it/s, Loss=2.3235, G_Acc=0.8790, A_Acc=0.6717]\n"
          ]
        },
        {
          "name": "stdout",
          "output_type": "stream",
          "text": [
            "[Validation] Loss: 2.4153, Gender Acc: 0.8899, Age Acc: 0.6231\n",
            "🛑 No improvement for 1 epoch(s).\n"
          ]
        },
        {
          "name": "stderr",
          "output_type": "stream",
          "text": [
            "Epoch [5/10]: 100%|████| 1859/1859 [06:19<00:00,  4.90it/s, Loss=2.2020, G_Acc=0.8882, A_Acc=0.6971]\n"
          ]
        },
        {
          "name": "stdout",
          "output_type": "stream",
          "text": [
            "[Validation] Loss: 2.3499, Gender Acc: 0.8885, Age Acc: 0.6368\n",
            "✅ Best model saved at Epoch 5\n"
          ]
        },
        {
          "name": "stderr",
          "output_type": "stream",
          "text": [
            "Epoch [6/10]: 100%|████| 1859/1859 [06:18<00:00,  4.91it/s, Loss=2.0829, G_Acc=0.8926, A_Acc=0.7188]\n"
          ]
        },
        {
          "name": "stdout",
          "output_type": "stream",
          "text": [
            "[Validation] Loss: 2.4410, Gender Acc: 0.8922, Age Acc: 0.6189\n",
            "🛑 No improvement for 1 epoch(s).\n"
          ]
        },
        {
          "name": "stderr",
          "output_type": "stream",
          "text": [
            "Epoch [7/10]: 100%|████| 1859/1859 [06:15<00:00,  4.94it/s, Loss=1.9919, G_Acc=0.8958, A_Acc=0.7410]\n"
          ]
        },
        {
          "name": "stdout",
          "output_type": "stream",
          "text": [
            "[Validation] Loss: 2.3321, Gender Acc: 0.8931, Age Acc: 0.6389\n",
            "✅ Best model saved at Epoch 7\n"
          ]
        },
        {
          "name": "stderr",
          "output_type": "stream",
          "text": [
            "Epoch [8/10]: 100%|████| 1859/1859 [06:17<00:00,  4.93it/s, Loss=1.8718, G_Acc=0.8988, A_Acc=0.7670]\n"
          ]
        },
        {
          "name": "stdout",
          "output_type": "stream",
          "text": [
            "[Validation] Loss: 2.3832, Gender Acc: 0.8927, Age Acc: 0.6381\n",
            "🛑 No improvement for 1 epoch(s).\n"
          ]
        },
        {
          "name": "stderr",
          "output_type": "stream",
          "text": [
            "Epoch [9/10]: 100%|████| 1859/1859 [06:18<00:00,  4.92it/s, Loss=1.7778, G_Acc=0.9047, A_Acc=0.7883]\n"
          ]
        },
        {
          "name": "stdout",
          "output_type": "stream",
          "text": [
            "[Validation] Loss: 2.4293, Gender Acc: 0.8937, Age Acc: 0.6291\n",
            "🛑 No improvement for 2 epoch(s).\n"
          ]
        },
        {
          "name": "stderr",
          "output_type": "stream",
          "text": [
            "Epoch [10/10]: 100%|███| 1859/1859 [06:16<00:00,  4.94it/s, Loss=1.7004, G_Acc=0.9083, A_Acc=0.8059]\n"
          ]
        },
        {
          "name": "stdout",
          "output_type": "stream",
          "text": [
            "[Validation] Loss: 2.4594, Gender Acc: 0.8861, Age Acc: 0.6201\n",
            "🛑 No improvement for 3 epoch(s).\n",
            "\n",
            "⏹ Early stopping triggered at Epoch 10. Best Val Loss: 2.3321\n"
          ]
        }
      ],
      "source": [
        "# ✅ 학습 루프 (회귀 포함 + Validation 정확도 및 손실 출력)\n",
        "from tqdm import tqdm\n",
        "\n",
        "loss_reg = nn.SmoothL1Loss()\n",
        "age_centers = torch.tensor([1, 6, 14, 24, 34, 44, 54, 64, 75], device=device)\n",
        "train_losses, val_accuracies = [], []\n",
        "best_acc = 0.0\n",
        "save_path = 'C:/TrainTest/models/best_model_test.pt'\n",
        "\n",
        "eporch_time = 50\n",
        "early_stop_patience = 3\n",
        "epochs_no_improve = 0\n",
        "best_val_loss = float('inf')\n",
        "\n",
        "for epoch in range(eporch_time):\n",
        "    model.train()\n",
        "    running_loss, correct_gender, correct_age, total = 0, 0, 0, 0\n",
        "    loop = tqdm(train_loader, desc=f\"Epoch [{epoch+1}/10]\", ncols=100)\n",
        "\n",
        "    for images, gender_labels, age_labels, _ in loop:\n",
        "        images = images.to(device)\n",
        "        gender_labels = gender_labels.to(device)\n",
        "        age_labels = age_labels.to(device)\n",
        "\n",
        "        optimizer.zero_grad()\n",
        "        gender_logits, age_logits, age_reg = model(images)\n",
        "        reg_targets = age_centers[age_labels]\n",
        "        loss = (\n",
        "            loss_gender(gender_logits, gender_labels)\n",
        "            + loss_age(age_logits, age_labels)\n",
        "            + 0.3 * loss_reg(age_reg, reg_targets)\n",
        "        )\n",
        "        loss.backward()\n",
        "        optimizer.step()\n",
        "\n",
        "        running_loss += loss.item()\n",
        "        correct_gender += (gender_logits.argmax(1) == gender_labels).sum().item()\n",
        "        correct_age += (age_logits.argmax(1) == age_labels).sum().item()\n",
        "        total += gender_labels.size(0)\n",
        "\n",
        "        loop.set_postfix({\n",
        "            \"Loss\": f\"{running_loss/(total//32):.4f}\",\n",
        "            \"G_Acc\": f\"{correct_gender/total:.4f}\",\n",
        "            \"A_Acc\": f\"{correct_age/total:.4f}\"\n",
        "        })\n",
        "\n",
        "    # ✅ 검증 루프\n",
        "    model.eval()\n",
        "    gender_preds, gender_true = [], []\n",
        "    age_preds, age_true = [], []\n",
        "    val_loss = 0.0\n",
        "    with torch.no_grad():\n",
        "        for images, g_labels, a_labels, _ in val_loader:\n",
        "            images = images.to(device)\n",
        "            g_labels = g_labels.to(device)\n",
        "            a_labels = a_labels.to(device)\n",
        "            g_out, a_out, a_reg = model(images)\n",
        "            reg_targets = age_centers[a_labels]\n",
        "            v_loss = (\n",
        "                loss_gender(g_out, g_labels)\n",
        "                + loss_age(a_out, a_labels)\n",
        "                + 0.3 * loss_reg(a_reg, reg_targets)\n",
        "            )\n",
        "            val_loss += v_loss.item()\n",
        "            gender_preds += g_out.argmax(1).cpu().tolist()\n",
        "            age_preds += a_out.argmax(1).cpu().tolist()\n",
        "            gender_true += g_labels.cpu().tolist()\n",
        "            age_true += a_labels.cpu().tolist()\n",
        "\n",
        "    val_gender_acc = sum([p==t for p,t in zip(gender_preds, gender_true)]) / len(gender_true)\n",
        "    val_age_acc = sum([p==t for p,t in zip(age_preds, age_true)]) / len(age_true)\n",
        "    val_loss /= len(val_loader)\n",
        "    print(f\"[Validation] Loss: {val_loss:.4f}, Gender Acc: {val_gender_acc:.4f}, Age Acc: {val_age_acc:.4f}\")\n",
        "\n",
        "    if val_loss < best_val_loss:\n",
        "        best_val_loss = val_loss\n",
        "        torch.save(model.state_dict(), save_path)\n",
        "        best_val_loss = val_loss\n",
        "        epochs_no_improve = 0\n",
        "        print(f\"✅ Best model saved at Epoch {epoch+1}\")\n",
        "\n",
        "    else:\n",
        "        epochs_no_improve += 1\n",
        "        print(f\"🛑 No improvement for {epochs_no_improve} epoch(s).\")\n",
        "\n",
        "    if epochs_no_improve >= early_stop_patience:\n",
        "        print(f\"\\n⏹ Early stopping triggered at Epoch {epoch+1}. Best Val Loss: {best_val_loss:.4f}\")\n",
        "        break\n"
      ]
    },
    {
      "cell_type": "code",
      "execution_count": null,
      "id": "cb6a634c",
      "metadata": {
        "id": "cb6a634c",
        "outputId": "ea10b2b6-beb8-44df-9b0b-849a70397b64"
      },
      "outputs": [
        {
          "data": {
            "image/png": "[encoded data removed]",
            "text/plain": [
              "<Figure size 600x500 with 2 Axes>"
            ]
          },
          "metadata": {},
          "output_type": "display_data"
        },
        {
          "data": {
            "image/png": "[encoded data removed]",
            "text/plain": [
              "<Figure size 800x600 with 2 Axes>"
            ]
          },
          "metadata": {},
          "output_type": "display_data"
        }
      ],
      "source": [
        "# ✅ Confusion Matrix 시각화\n",
        "plt.figure(figsize=(6,5))\n",
        "sns.heatmap(confusion_matrix(gender_true, gender_preds), annot=True, fmt='d', xticklabels=['Male', 'Female'], yticklabels=['Male', 'Female'])\n",
        "plt.title('Gender Confusion Matrix')\n",
        "plt.xlabel('Predicted')\n",
        "plt.ylabel('True')\n",
        "plt.show()\n",
        "\n",
        "plt.figure(figsize=(8,6))\n",
        "age_labels = ['0-2','3-9','10-19','20-29','30-39','40-49','50-59','60-69','70+']\n",
        "sns.heatmap(confusion_matrix(age_true, age_preds), annot=True, fmt='d', xticklabels=age_labels, yticklabels=age_labels)\n",
        "plt.title('Age Confusion Matrix')\n",
        "plt.xlabel('Predicted')\n",
        "plt.ylabel('True')\n",
        "plt.show()"
      ]
    },
    {
      "cell_type": "code",
      "execution_count": null,
      "id": "052f798e",
      "metadata": {
        "id": "052f798e"
      },
      "outputs": [],
      "source": [
        "# ✅ ONNX 포팅용 내보내기\n",
        "model.load_state_dict(torch.load(save_path))\n",
        "model.eval()\n",
        "dummy_input = torch.randn(1, 3, 224, 224).to(device)\n",
        "torch.onnx.export(model, dummy_input, \"catchcam_export.onnx\",\n",
        "                  input_names=['input'],\n",
        "                  output_names=['gender', 'age'],\n",
        "                  dynamic_axes={'input': {0: 'batch'}, 'gender': {0: 'batch'}, 'age': {0: 'batch'}},\n",
        "                  opset_version=11)\n",
        "print(\"✅ ONNX 파일 저장 완료: catchcam_export.onnx\")"
      ]
    },
    {
      "cell_type": "code",
      "execution_count": null,
      "id": "4f97a004",
      "metadata": {
        "id": "4f97a004"
      },
      "outputs": [],
      "source": [
        "# ✅ ONNX 포팅용 내보내기 (고정 입력 버전)\n",
        "import torch\n",
        "\n",
        "# ✅ 디바이스 설정\n",
        "device = torch.device('cuda' if torch.cuda.is_available() else 'cpu')\n",
        "\n",
        "# ✅ 학습된 모델 불러오기\n",
        "model = MultiTaskNet()\n",
        "model.load_state_dict(torch.load(\"C:/TrainTest/models/best_model_test.pt\", map_location=device))\n",
        "model.to(device)\n",
        "model.eval()\n",
        "\n",
        "# ✅ 고정 입력 크기 설정\n",
        "dummy_input = torch.randn(1, 3, 224, 224).to(device)\n",
        "\n",
        "# ✅ ONNX 변환 시 gender + age 출력만 포함 (regression 제외)\n",
        "with torch.no_grad():\n",
        "    gender_logits, age_logits, _ = model(dummy_input)\n",
        "    export_output = torch.cat([gender_logits, age_logits], dim=1)  # [B, 8]\n",
        "\n",
        "# ✅ ONNX로 내보내기\n",
        "torch.onnx.export(\n",
        "    model,\n",
        "    dummy_input,\n",
        "    \"gender_age_kl630_regnet.onnx\",\n",
        "    input_names=[\"input\"],\n",
        "    output_names=[\"output\"],\n",
        "    opset_version=11,\n",
        "    do_constant_folding=True\n",
        ")\n",
        "\n",
        "print(\"✅ ONNX 변환 완료: gender_age_kl630_regnet.onnx\")"
      ]
    }
  ],
  "metadata": {
    "kernelspec": {
      "display_name": "Python 3",
      "language": "python",
      "name": "python3"
    },
    "language_info": {
      "codemirror_mode": {
        "name": "ipython",
        "version": 3
      },
      "file_extension": ".py",
      "mimetype": "text/x-python",
      "name": "python",
      "nbconvert_exporter": "python",
      "pygments_lexer": "ipython3",
      "version": "3.11.1"
    },
    "colab": {
      "provenance": []
    }
  },
  "nbformat": 4,
  "nbformat_minor": 5
}